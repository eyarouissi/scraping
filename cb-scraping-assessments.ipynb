{
 "cells": [
  {
   "cell_type": "code",
   "execution_count": null,
   "id": "7de86563",
   "metadata": {},
   "outputs": [],
   "source": [
    "from selenium import webdriver\n",
    "from bs4 import BeautifulSoup\n",
    "import pandas as pd"
   ]
  },
  {
   "cell_type": "code",
   "execution_count": null,
   "id": "7a23d336",
   "metadata": {},
   "outputs": [],
   "source": [
    "driver = webdriver.Chrome(r\"C:\\Users\\gannouni\\Desktop\\chrome\\chromedriver\")\n",
    "Question=[] #List to store Questions\n",
    "AnswerA=[] #List to store AnswerA\n",
    "AnswerB=[] #List to store AnswerB\n",
    "AnswerC=[] #List to store AnswerC\n",
    "AnswerD=[] #List to store AnswerD\n",
    "Correct_Answer=[] #List to store correct answers"
   ]
  },
  {
   "cell_type": "code",
   "execution_count": null,
   "id": "55a39f3b",
   "metadata": {},
   "outputs": [],
   "source": [
    "content = driver.page_source\n",
    "soup = BeautifulSoup(content)\n",
    "overview=soup.find_all('li',class_='task-list-item')\n",
    "answers=[]\n",
    "for z in overview:\n",
    "    answers.append(z.text)\n",
    "answers"
   ]
  },
  {
   "cell_type": "code",
   "execution_count": null,
   "id": "da4762ba",
   "metadata": {},
   "outputs": [],
   "source": [
    "i=0\n",
    "while(i<len(answers))\n",
    "     AnswerA.append(answers[i+4])\n",
    "        \n",
    "AnswerA"
   ]
  },
  {
   "cell_type": "code",
   "execution_count": null,
   "id": "98fd6f69",
   "metadata": {},
   "outputs": [],
   "source": [
    "i=2\n",
    "while(i<len(answers))\n",
    "     AnswerC.append(answers[i+4])\n",
    "        \n",
    "AnswerC"
   ]
  },
  {
   "cell_type": "code",
   "execution_count": null,
   "id": "4d3d9d71",
   "metadata": {},
   "outputs": [],
   "source": [
    "i=1\n",
    "while(i<len(answers))\n",
    "     AnswerB.append(answers[i+4])\n",
    "        \n",
    "AnswerB"
   ]
  },
  {
   "cell_type": "code",
   "execution_count": null,
   "id": "b7b76f00",
   "metadata": {},
   "outputs": [],
   "source": [
    "i=3\n",
    "while(i<len(answers))\n",
    "     AnswerD.append(answers[i+4])\n",
    "        \n",
    "AnswerD"
   ]
  },
  {
   "cell_type": "code",
   "execution_count": null,
   "id": "db2b69ec",
   "metadata": {},
   "outputs": [],
   "source": [
    "overview=soup.find_all('li',class_='task-list-item',checked_='')\n",
    "correct_answer=[]\n",
    "for z in overview:\n",
    "    correct_answer.append(z.text)\n",
    "correct_answer"
   ]
  },
  {
   "cell_type": "code",
   "execution_count": null,
   "id": "d2d4755c",
   "metadata": {},
   "outputs": [],
   "source": [
    "overview=soup.find_all('h4')\n",
    "for z in overview:\n",
    "    Question.append(z.text)\n",
    "del Question[0]\n",
    "del Question[0]"
   ]
  },
  {
   "cell_type": "code",
   "execution_count": null,
   "id": "268ac99a",
   "metadata": {},
   "outputs": [],
   "source": [
    "a = {'Question':Question,'Answer A':AnswerA,'Answer B':AnswerB,'Answer C':AnswerC,'Answer D':AnswerD,'Correct Answer':correct_answer} \n",
    "df = pd.DataFrame.from_dict(a, orient='index')\n",
    "df = df.transpose()\n",
    "df"
   ]
  },
  {
   "cell_type": "code",
   "execution_count": null,
   "id": "ae9d15d5",
   "metadata": {},
   "outputs": [],
   "source": [
    "result=df.to_excel(r\"C:\\Users\\user\\Desktop\\test-name-quiz.xlsx\") "
   ]
  }
 ],
 "metadata": {
  "kernelspec": {
   "display_name": "Python 3 (ipykernel)",
   "language": "python",
   "name": "python3"
  },
  "language_info": {
   "codemirror_mode": {
    "name": "ipython",
    "version": 3
   },
   "file_extension": ".py",
   "mimetype": "text/x-python",
   "name": "python",
   "nbconvert_exporter": "python",
   "pygments_lexer": "ipython3",
   "version": "3.9.1"
  }
 },
 "nbformat": 4,
 "nbformat_minor": 5
}
